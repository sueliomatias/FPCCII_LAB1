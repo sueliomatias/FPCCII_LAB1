{
 "cells": [
  {
   "cell_type": "markdown",
   "metadata": {},
   "source": [
    "FPCC2 - Laboratório 1\n",
    "\n",
    "Professor: Fábio Morais\n",
    "\n",
    "Aluno: Suelio Matias\n",
    "\n",
    "21 de abril de 2024"
   ]
  },
  {
   "cell_type": "code",
   "execution_count": 67,
   "metadata": {},
   "outputs": [],
   "source": [
    "import pandas as pd\n",
    "import numpy as np\n",
    "from scipy import stats"
   ]
  },
  {
   "cell_type": "code",
   "execution_count": 68,
   "metadata": {},
   "outputs": [],
   "source": [
    "data_cursos = pd.read_csv('data/cursos-prouni.csv')\n",
    "data_estados = pd.read_csv('data/estados.csv')"
   ]
  },
  {
   "cell_type": "code",
   "execution_count": 69,
   "metadata": {},
   "outputs": [],
   "source": [
    "merged_data = pd.merge(data_cursos, data_estados, left_on=['uf_busca'], right_on=['subdivision'])"
   ]
  },
  {
   "cell_type": "markdown",
   "metadata": {},
   "source": [
    "### Q1 - Qual a diferença entre as mensalidades médias e medianas dos cursos de Ciência da Computação das regiões Nordeste e Sudeste? Na sua opinião, essa diferença o que causa essa diferença? Ela é estatisticamente significativa? Justifique."
   ]
  },
  {
   "cell_type": "code",
   "execution_count": 70,
   "metadata": {},
   "outputs": [
    {
     "data": {
      "text/html": [
       "<div>\n",
       "<style scoped>\n",
       "    .dataframe tbody tr th:only-of-type {\n",
       "        vertical-align: middle;\n",
       "    }\n",
       "\n",
       "    .dataframe tbody tr th {\n",
       "        vertical-align: top;\n",
       "    }\n",
       "\n",
       "    .dataframe thead th {\n",
       "        text-align: right;\n",
       "    }\n",
       "</style>\n",
       "<table border=\"1\" class=\"dataframe\">\n",
       "  <thead>\n",
       "    <tr style=\"text-align: right;\">\n",
       "      <th></th>\n",
       "      <th>mean</th>\n",
       "      <th>median</th>\n",
       "      <th>diff</th>\n",
       "    </tr>\n",
       "    <tr>\n",
       "      <th>region</th>\n",
       "      <th></th>\n",
       "      <th></th>\n",
       "      <th></th>\n",
       "    </tr>\n",
       "  </thead>\n",
       "  <tbody>\n",
       "    <tr>\n",
       "      <th>NE</th>\n",
       "      <td>712.734194</td>\n",
       "      <td>742.8</td>\n",
       "      <td>-30.065806</td>\n",
       "    </tr>\n",
       "    <tr>\n",
       "      <th>SE</th>\n",
       "      <td>899.059381</td>\n",
       "      <td>779.0</td>\n",
       "      <td>120.059381</td>\n",
       "    </tr>\n",
       "  </tbody>\n",
       "</table>\n",
       "</div>"
      ],
      "text/plain": [
       "              mean  median        diff\n",
       "region                                \n",
       "NE      712.734194   742.8  -30.065806\n",
       "SE      899.059381   779.0  120.059381"
      ]
     },
     "execution_count": 70,
     "metadata": {},
     "output_type": "execute_result"
    }
   ],
   "source": [
    "# Filtrando o DataFrame para cursos de Ciência da Computação nas regiões Nordeste e Sudeste\n",
    "cc_ne_se = merged_data[(merged_data['curso_busca'] == 'Ciência da Computação') & \n",
    "                       (merged_data['region'].isin(['NE', 'SE']))]\n",
    "\n",
    "# Calculando as mensalidades médias e medianas\n",
    "mensalidade_stats = cc_ne_se.groupby('region')['mensalidade'].agg(['mean', 'median'])\n",
    "mensalidade_stats['diff'] = mensalidade_stats['mean'] - mensalidade_stats['median']\n",
    "mensalidade_stats"
   ]
  },
  {
   "cell_type": "markdown",
   "metadata": {},
   "source": [
    "Justificativa:\n",
    "\n",
    "A diferença entre as mensalidades médias e medianas pode indicar uma distribuição de mensalidades que não é simétrica, o que sugere a presença de valores extremos (outliers). A média é mais sensível a outliers do que a mediana. No Nordeste, a diferença é maior, o que pode indicar uma distribuição mais dispersa das mensalidades.\n",
    "\n",
    "Para determinar se essa diferença é estatisticamente significativa, podemos realizar um teste t-student para duas amostras independentes."
   ]
  },
  {
   "cell_type": "code",
   "execution_count": 71,
   "metadata": {},
   "outputs": [
    {
     "data": {
      "text/plain": [
       "'A diferença é estatisticamente significativa (p < 0.05)'"
      ]
     },
     "execution_count": 71,
     "metadata": {},
     "output_type": "execute_result"
    }
   ],
   "source": [
    "# Filtrando as mensalidades para as duas regiões\n",
    "mensalidade_ne = cc_ne_se[cc_ne_se['region'] == 'NE']['mensalidade']\n",
    "mensalidade_se = cc_ne_se[cc_ne_se['region'] == 'SE']['mensalidade']\n",
    "\n",
    "# Teste t-student\n",
    "t_stat, p_value = stats.ttest_ind(mensalidade_ne, mensalidade_se)\n",
    "\n",
    "if p_value < 0.05:\n",
    "    significance = 'A diferença é estatisticamente significativa (p < 0.05)'\n",
    "else:\n",
    "    significance = 'A diferença não é estatisticamente significativa (p >= 0.05)'\n",
    "\n",
    "significance"
   ]
  },
  {
   "cell_type": "markdown",
   "metadata": {},
   "source": [
    "### Q2 - Quais são os top 10 cursos com maior valor de mensalidade pelo total de bolsas (diferentes tipos)? Existe uma relação entre o valor total de mensalidade e o total de bolsas por curso? Justifique."
   ]
  },
  {
   "cell_type": "code",
   "execution_count": 72,
   "metadata": {},
   "outputs": [
    {
     "data": {
      "text/html": [
       "<div>\n",
       "<style scoped>\n",
       "    .dataframe tbody tr th:only-of-type {\n",
       "        vertical-align: middle;\n",
       "    }\n",
       "\n",
       "    .dataframe tbody tr th {\n",
       "        vertical-align: top;\n",
       "    }\n",
       "\n",
       "    .dataframe thead th {\n",
       "        text-align: right;\n",
       "    }\n",
       "</style>\n",
       "<table border=\"1\" class=\"dataframe\">\n",
       "  <thead>\n",
       "    <tr style=\"text-align: right;\">\n",
       "      <th></th>\n",
       "      <th>mensalidade</th>\n",
       "      <th>total_bolsas</th>\n",
       "    </tr>\n",
       "    <tr>\n",
       "      <th>nome</th>\n",
       "      <th></th>\n",
       "      <th></th>\n",
       "    </tr>\n",
       "  </thead>\n",
       "  <tbody>\n",
       "    <tr>\n",
       "      <th>Medicina</th>\n",
       "      <td>7168.341532</td>\n",
       "      <td>1177.0</td>\n",
       "    </tr>\n",
       "    <tr>\n",
       "      <th>Engenharia de Materiais e Nanotecnologia</th>\n",
       "      <td>4108.000000</td>\n",
       "      <td>2.0</td>\n",
       "    </tr>\n",
       "    <tr>\n",
       "      <th>Desenho Industrial</th>\n",
       "      <td>3467.000000</td>\n",
       "      <td>28.0</td>\n",
       "    </tr>\n",
       "    <tr>\n",
       "      <th>Sistemas Biomédicos</th>\n",
       "      <td>3420.000000</td>\n",
       "      <td>22.0</td>\n",
       "    </tr>\n",
       "    <tr>\n",
       "      <th>Comunicação Social - Cinema</th>\n",
       "      <td>2782.333333</td>\n",
       "      <td>7.0</td>\n",
       "    </tr>\n",
       "    <tr>\n",
       "      <th>Pilotagem Profissional de Aeronaves</th>\n",
       "      <td>2630.886000</td>\n",
       "      <td>44.0</td>\n",
       "    </tr>\n",
       "    <tr>\n",
       "      <th>Comunicação e Multimeios</th>\n",
       "      <td>2585.050000</td>\n",
       "      <td>4.0</td>\n",
       "    </tr>\n",
       "    <tr>\n",
       "      <th>Odontologia</th>\n",
       "      <td>2324.165149</td>\n",
       "      <td>2529.0</td>\n",
       "    </tr>\n",
       "    <tr>\n",
       "      <th>Música - Composição</th>\n",
       "      <td>2211.000000</td>\n",
       "      <td>1.0</td>\n",
       "    </tr>\n",
       "    <tr>\n",
       "      <th>Design de Games</th>\n",
       "      <td>2180.000000</td>\n",
       "      <td>2.0</td>\n",
       "    </tr>\n",
       "  </tbody>\n",
       "</table>\n",
       "</div>"
      ],
      "text/plain": [
       "                                          mensalidade  total_bolsas\n",
       "nome                                                               \n",
       "Medicina                                  7168.341532        1177.0\n",
       "Engenharia de Materiais e Nanotecnologia  4108.000000           2.0\n",
       "Desenho Industrial                        3467.000000          28.0\n",
       "Sistemas Biomédicos                       3420.000000          22.0\n",
       "Comunicação Social - Cinema               2782.333333           7.0\n",
       "Pilotagem Profissional de Aeronaves       2630.886000          44.0\n",
       "Comunicação e Multimeios                  2585.050000           4.0\n",
       "Odontologia                               2324.165149        2529.0\n",
       "Música - Composição                       2211.000000           1.0\n",
       "Design de Games                           2180.000000           2.0"
      ]
     },
     "execution_count": 72,
     "metadata": {},
     "output_type": "execute_result"
    }
   ],
   "source": [
    "# Calculando o total de bolsas\n",
    "merged_data['total_bolsas'] = merged_data[['bolsa_integral_cotas', 'bolsa_integral_ampla', \n",
    "                                      'bolsa_parcial_cotas', 'bolsa_parcial_ampla']].sum(axis=1)\n",
    "\n",
    "# Ordenando os cursos pela mensalidade total\n",
    "top_10_cursos = merged_data.groupby('nome').agg({'mensalidade': 'mean', 'total_bolsas': 'sum'}).nlargest(10, 'mensalidade')\n",
    "top_10_cursos\n"
   ]
  },
  {
   "cell_type": "markdown",
   "metadata": {},
   "source": [
    "Justificativa:\n",
    "\n",
    "A média da mensalidade foi escolhida para considerar os cursos que possuem valores de mensalidades variadas. A soma total das bolsas foi escolhida para representar o total de bolsas disponíveis para cada curso. Para entender se há uma relação entre a mensalidade e o número total de bolsas podemos utilizar a correlação de Spearman."
   ]
  },
  {
   "cell_type": "code",
   "execution_count": 73,
   "metadata": {},
   "outputs": [
    {
     "data": {
      "text/plain": [
       "0.5115785923550468"
      ]
     },
     "execution_count": 73,
     "metadata": {},
     "output_type": "execute_result"
    }
   ],
   "source": [
    "correlation = merged_data['mensalidade'].corr(merged_data['total_bolsas'], method='spearman')\n",
    "correlation\n"
   ]
  },
  {
   "cell_type": "markdown",
   "metadata": {},
   "source": [
    "Utilizando a correlação Spearman é retornado o valor de 0.5115 indicando uma relação moderada positiva."
   ]
  },
  {
   "cell_type": "markdown",
   "metadata": {},
   "source": [
    "### Q3 - Quais são os cursos tecnológicos do estado da Paraíba que oferecem mais bolsas de estudo e quantas bolsas de cada tipo estes cursos oferecem?"
   ]
  },
  {
   "cell_type": "code",
   "execution_count": 74,
   "metadata": {},
   "outputs": [
    {
     "data": {
      "text/html": [
       "<div>\n",
       "<style scoped>\n",
       "    .dataframe tbody tr th:only-of-type {\n",
       "        vertical-align: middle;\n",
       "    }\n",
       "\n",
       "    .dataframe tbody tr th {\n",
       "        vertical-align: top;\n",
       "    }\n",
       "\n",
       "    .dataframe thead th {\n",
       "        text-align: right;\n",
       "    }\n",
       "</style>\n",
       "<table border=\"1\" class=\"dataframe\">\n",
       "  <thead>\n",
       "    <tr style=\"text-align: right;\">\n",
       "      <th></th>\n",
       "      <th>total_bolsas</th>\n",
       "      <th>bolsa_integral_cotas</th>\n",
       "      <th>bolsa_integral_ampla</th>\n",
       "      <th>bolsa_parcial_cotas</th>\n",
       "      <th>bolsa_parcial_ampla</th>\n",
       "    </tr>\n",
       "    <tr>\n",
       "      <th>nome</th>\n",
       "      <th></th>\n",
       "      <th></th>\n",
       "      <th></th>\n",
       "      <th></th>\n",
       "      <th></th>\n",
       "    </tr>\n",
       "  </thead>\n",
       "  <tbody>\n",
       "    <tr>\n",
       "      <th>Gestão de Recursos Humanos</th>\n",
       "      <td>124.0</td>\n",
       "      <td>31.0</td>\n",
       "      <td>20.0</td>\n",
       "      <td>3.0</td>\n",
       "      <td>70.0</td>\n",
       "    </tr>\n",
       "    <tr>\n",
       "      <th>Segurança no Trabalho</th>\n",
       "      <td>110.0</td>\n",
       "      <td>11.0</td>\n",
       "      <td>7.0</td>\n",
       "      <td>1.0</td>\n",
       "      <td>91.0</td>\n",
       "    </tr>\n",
       "    <tr>\n",
       "      <th>Redes de Computadores</th>\n",
       "      <td>106.0</td>\n",
       "      <td>16.0</td>\n",
       "      <td>10.0</td>\n",
       "      <td>0.0</td>\n",
       "      <td>80.0</td>\n",
       "    </tr>\n",
       "    <tr>\n",
       "      <th>Gestão da Tecnologia da Informação</th>\n",
       "      <td>99.0</td>\n",
       "      <td>12.0</td>\n",
       "      <td>6.0</td>\n",
       "      <td>1.0</td>\n",
       "      <td>80.0</td>\n",
       "    </tr>\n",
       "    <tr>\n",
       "      <th>Negócios Imobiliários</th>\n",
       "      <td>95.0</td>\n",
       "      <td>6.0</td>\n",
       "      <td>4.0</td>\n",
       "      <td>0.0</td>\n",
       "      <td>85.0</td>\n",
       "    </tr>\n",
       "    <tr>\n",
       "      <th>Logística</th>\n",
       "      <td>80.0</td>\n",
       "      <td>9.0</td>\n",
       "      <td>3.0</td>\n",
       "      <td>1.0</td>\n",
       "      <td>67.0</td>\n",
       "    </tr>\n",
       "    <tr>\n",
       "      <th>Design de Interiores</th>\n",
       "      <td>53.0</td>\n",
       "      <td>13.0</td>\n",
       "      <td>10.0</td>\n",
       "      <td>0.0</td>\n",
       "      <td>30.0</td>\n",
       "    </tr>\n",
       "    <tr>\n",
       "      <th>Radiologia</th>\n",
       "      <td>53.0</td>\n",
       "      <td>12.0</td>\n",
       "      <td>30.0</td>\n",
       "      <td>1.0</td>\n",
       "      <td>10.0</td>\n",
       "    </tr>\n",
       "    <tr>\n",
       "      <th>Gestão Comercial</th>\n",
       "      <td>27.0</td>\n",
       "      <td>14.0</td>\n",
       "      <td>5.0</td>\n",
       "      <td>5.0</td>\n",
       "      <td>3.0</td>\n",
       "    </tr>\n",
       "    <tr>\n",
       "      <th>Marketing</th>\n",
       "      <td>27.0</td>\n",
       "      <td>15.0</td>\n",
       "      <td>8.0</td>\n",
       "      <td>4.0</td>\n",
       "      <td>0.0</td>\n",
       "    </tr>\n",
       "  </tbody>\n",
       "</table>\n",
       "</div>"
      ],
      "text/plain": [
       "                                    total_bolsas  bolsa_integral_cotas  \\\n",
       "nome                                                                     \n",
       "Gestão de Recursos Humanos                 124.0                  31.0   \n",
       "Segurança no Trabalho                      110.0                  11.0   \n",
       "Redes de Computadores                      106.0                  16.0   \n",
       "Gestão da Tecnologia da Informação          99.0                  12.0   \n",
       "Negócios Imobiliários                       95.0                   6.0   \n",
       "Logística                                   80.0                   9.0   \n",
       "Design de Interiores                        53.0                  13.0   \n",
       "Radiologia                                  53.0                  12.0   \n",
       "Gestão Comercial                            27.0                  14.0   \n",
       "Marketing                                   27.0                  15.0   \n",
       "\n",
       "                                    bolsa_integral_ampla  bolsa_parcial_cotas  \\\n",
       "nome                                                                            \n",
       "Gestão de Recursos Humanos                          20.0                  3.0   \n",
       "Segurança no Trabalho                                7.0                  1.0   \n",
       "Redes de Computadores                               10.0                  0.0   \n",
       "Gestão da Tecnologia da Informação                   6.0                  1.0   \n",
       "Negócios Imobiliários                                4.0                  0.0   \n",
       "Logística                                            3.0                  1.0   \n",
       "Design de Interiores                                10.0                  0.0   \n",
       "Radiologia                                          30.0                  1.0   \n",
       "Gestão Comercial                                     5.0                  5.0   \n",
       "Marketing                                            8.0                  4.0   \n",
       "\n",
       "                                    bolsa_parcial_ampla  \n",
       "nome                                                     \n",
       "Gestão de Recursos Humanos                         70.0  \n",
       "Segurança no Trabalho                              91.0  \n",
       "Redes de Computadores                              80.0  \n",
       "Gestão da Tecnologia da Informação                 80.0  \n",
       "Negócios Imobiliários                              85.0  \n",
       "Logística                                          67.0  \n",
       "Design de Interiores                               30.0  \n",
       "Radiologia                                         10.0  \n",
       "Gestão Comercial                                    3.0  \n",
       "Marketing                                           0.0  "
      ]
     },
     "execution_count": 74,
     "metadata": {},
     "output_type": "execute_result"
    }
   ],
   "source": [
    "# Filtrando os cursos tecnológicos do estado da Paraíba\n",
    "cursos_pb = merged_data.loc[(merged_data['grau'].str.contains('Tecnológico')) & \n",
    "                        (merged_data['uf_busca'] == 'PB')].copy()\n",
    "\n",
    "# Calculando o total de bolsas\n",
    "cursos_pb.loc[:, 'total_bolsas'] = cursos_pb[['bolsa_integral_cotas', 'bolsa_integral_ampla', \n",
    "                                        'bolsa_parcial_cotas', 'bolsa_parcial_ampla']].sum(axis=1)\n",
    "\n",
    "# Ordenando os cursos pela quantidade de bolsas\n",
    "cursos_pb = cursos_pb.groupby('nome')[\n",
    "        ['total_bolsas', 'bolsa_integral_cotas', 'bolsa_integral_ampla', 'bolsa_parcial_cotas', 'bolsa_parcial_ampla']\n",
    "    ].sum().nlargest(10, 'total_bolsas')\n",
    "\n",
    "cursos_pb"
   ]
  },
  {
   "cell_type": "markdown",
   "metadata": {},
   "source": [
    "### Q4 - Considerando os cursos de Ciência da Computação, Engenharia da Computação e Sistemas de Informação, qual o percentual de bolsas ofertadas para cada modalidade (a distância, integral, noturno, etc.) por cada um dos cursos? Existe uma modalidade que é predominante?"
   ]
  },
  {
   "cell_type": "code",
   "execution_count": 75,
   "metadata": {},
   "outputs": [
    {
     "name": "stdout",
     "output_type": "stream",
     "text": [
      "Percentual de bolsas por turno para o curso Engenharia de Computação:\n",
      "Turno: Curso a distância | Percentual de bolsas: 11.87%\n",
      "Turno: Integral | Percentual de bolsas: 3.87%\n",
      "Turno: Matutino | Percentual de bolsas: 36.15%\n",
      "Turno: Noturno | Percentual de bolsas: 46.49%\n",
      "Turno: Vespertino | Percentual de bolsas: 1.62%\n",
      "\n",
      "\n",
      "Percentual de bolsas por turno para o curso Ciência da Computação:\n",
      "Turno: Curso a distância | Percentual de bolsas: 0.00%\n",
      "Turno: Integral | Percentual de bolsas: 1.26%\n",
      "Turno: Matutino | Percentual de bolsas: 24.15%\n",
      "Turno: Noturno | Percentual de bolsas: 73.52%\n",
      "Turno: Vespertino | Percentual de bolsas: 1.07%\n",
      "\n",
      "\n",
      "Percentual de bolsas por turno para o curso Sistema de Informação:\n",
      "Turno: Curso a distância | Percentual de bolsas: 0.00%\n",
      "Turno: Integral | Percentual de bolsas: 0.00%\n",
      "Turno: Matutino | Percentual de bolsas: 7.36%\n",
      "Turno: Noturno | Percentual de bolsas: 92.04%\n",
      "Turno: Vespertino | Percentual de bolsas: 0.60%\n",
      "\n",
      "\n"
     ]
    }
   ],
   "source": [
    "# Filtrando os cursos de Ciência da Computação, Engenharia da Computação e Sistemas de Informação\n",
    "cursos_comp = merged_data[merged_data['curso_busca'].isin(['Ciência da Computação', \n",
    "                                                           'Engenharia de Computação', \n",
    "                                                           'Sistema de Informação'])]\n",
    "\n",
    "turnos = ['Curso a Distância', 'Integral', 'Matutino', 'Noturno', 'Vespertino']\n",
    "\n",
    "# Calculando o percentual de bolsas para cada turno por curso\n",
    "for curso in cursos_comp['nome'].unique():\n",
    "    print(f\"Percentual de bolsas por turno para o curso {curso}:\")\n",
    "    curso_df = cursos_comp[cursos_comp['nome'] == curso]\n",
    "    for turno in turnos:\n",
    "        turno_df = curso_df[curso_df['turno'] == turno]\n",
    "        total_bolsas_turno = turno_df['total_bolsas'].sum()\n",
    "        percentual = (total_bolsas_turno / curso_df['total_bolsas'].sum()) * 100\n",
    "        print(f\"Turno: {turno.capitalize()} | Percentual de bolsas: {percentual:.2f}%\")\n",
    "    print('\\n')\n",
    "\n",
    "    \n"
   ]
  },
  {
   "cell_type": "markdown",
   "metadata": {},
   "source": [
    "A modalidade \"Noturno\" é predominante nos três cursos"
   ]
  }
 ],
 "metadata": {
  "kernelspec": {
   "display_name": "atividades_fpcc_env",
   "language": "python",
   "name": "python3"
  },
  "language_info": {
   "codemirror_mode": {
    "name": "ipython",
    "version": 3
   },
   "file_extension": ".py",
   "mimetype": "text/x-python",
   "name": "python",
   "nbconvert_exporter": "python",
   "pygments_lexer": "ipython3",
   "version": "3.10.12"
  }
 },
 "nbformat": 4,
 "nbformat_minor": 2
}
